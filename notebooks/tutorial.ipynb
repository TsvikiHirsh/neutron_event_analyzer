{
 "cells": [
  {
   "cell_type": "markdown",
   "metadata": {},
   "source": [
    "# Neutron Event Analyzer Tutorial\n",
    "\n",
    "This tutorial demonstrates how to use the `neutron_event_analyzer` package to process and analyze neutron event camera data. The package processes `.empirphot` and `.empirevent` files, associates photons with events, computes ellipticity, and generates diagnostic plots. It supports two association methods: a simple method and an optional `lumacamTesting`-based method (if installed).\n",
    "\n",
    "## Setup\n",
    "\n",
    "Ensure you have installed the package:\n",
    "\n",
    "```bash\n",
    "pip install neutron_event_analyzer\n",
    "```\n",
    "\n",
    "For the `lumacamTesting` association method, install the optional dependency:\n",
    "\n",
    "```bash\n",
    "pip install neutron_event_analyzer[lumacam]\n",
    "```\n",
    "\n",
    "You need a data folder with the following structure:\n",
    "\n",
    "```\n",
    "data_folder/\n",
    "├── photonFiles/\n",
    "│   └── *.empirphot\n",
    "└── eventFiles/\n",
    "    └── *.empirevent\n",
    "```\n",
    "\n",
    "Additionally, provide the path to the `export` directory containing the `empir_export_events` and `empir_export_photons` binaries.\n",
    "\n",
    "## Prerequisites\n",
    "\n",
    "Let's import the necessary module and set up the environment."
   ]
  },
  {
   "cell_type": "code",
   "execution_count": null,
   "metadata": {},
   "outputs": [],
   "source": [
    "from neutron_event_analyzer import Analyse\n",
    "import numpy as np\n",
    "\n",
    "# Define paths (replace with your actual paths)\n",
    "data_folder = '/path/to/your/data_folder'\n",
    "export_dir = '/path/to/your/export'"
   ]
  },
  {
   "cell_type": "markdown",
   "metadata": {},
   "source": [
    "## Step 1: Initialize the Analyser\n",
    "\n",
    "Create an `Analyse` object, specifying the data folder, export directory, and whether to use `lumacamTesting` (if available)."
   ]
  },
  {
   "cell_type": "code",
   "execution_count": null,
   "metadata": {},
   "outputs": [],
   "source": [
    "# Initialize with simple association\n",
    "analyser_simple = Analyse(data_folder=data_folder, export_dir=export_dir, n_threads=4, use_lumacam=False)\n",
    "print(\"Simple analyser initialized.\")\n",
    "\n",
    "# Initialize with lumacamTesting (if installed)\n",
    "analyser_lumacam = Analyse(data_folder=data_folder, export_dir=export_dir, n_threads=4, use_lumacam=True)\n",
    "print(\"Lumacam analyser initialized.\")"
   ]
  },
  {
   "cell_type": "markdown",
   "metadata": {},
   "source": [
    "## Step 2: Load Event and Photon Data\n",
    "\n",
    "Load the event and photon files into DataFrames. You can specify custom glob patterns if needed."
   ]
  },
  {
   "cell_type": "code",
   "execution_count": null,
   "metadata": {},
   "outputs": [],
   "source": [
    "# Load events\n",
    "analyser_simple.load_events()\n",
    "analyser_lumacam.load_events()\n",
    "\n",
    "# Load photons\n",
    "analyser_simple.load_photons()\n",
    "analyser_lumacam.load_photons()"
   ]
  },
  {
   "cell_type": "markdown",
   "metadata": {},
   "source": [
    "## Step 3: Associate Photons to Events\n",
    "\n",
    "Associate photons to events using either the simple method or the `lumacamTesting` method."
   ]
  },
  {
   "cell_type": "code",
   "execution_count": null,
   "metadata": {},
   "outputs": [],
   "source": [
    "# Simple association\n",
    "analyser_simple.associate(time_norm_ns=1.0, spatial_norm_px=1.0, dSpace_px=np.inf, verbosity=1)\n",
    "\n",
    "# Lumacam association (if lumacamTesting is installed)\n",
    "analyser_lumacam.associate(weight_px_in_s=None, max_dist_s=None, verbosity=1)"
   ]
  },
  {
   "cell_type": "markdown",
   "metadata": {},
   "source": [
    "## Step 4: Compute Ellipticity\n",
    "\n",
    "Compute ellipticity and related metrics for multi-photon events. Use the appropriate event column for lumacam (`assoc_cluster_id`)."
   ]
  },
  {
   "cell_type": "code",
   "execution_count": null,
   "metadata": {},
   "outputs": [],
   "source": [
    "analyser_simple.compute_ellipticity(verbosity=1)\n",
    "analyser_lumacam.compute_ellipticity(event_col='assoc_cluster_id', verbosity=1)"
   ]
  },
  {
   "cell_type": "markdown",
   "metadata": {},
   "source": [
    "## Step 5: Retrieve Combined DataFrame\n",
    "\n",
    "Get the DataFrame containing associated photon and event data, including ellipticity metrics."
   ]
  },
  {
   "cell_type": "code",
   "execution_count": null,
   "metadata": {},
   "source": [
    "combined_df_simple = analyser_simple.get_combined_dataframe()\n",
    "combined_df_simple.head()\n",
    "\n",
    "combined_df_lumacam = analyser_lumacam.get_combined_dataframe()\n",
    "combined_df_lumacam.head()"
   ]
  },
  {
   "cell_type": "markdown",
   "metadata": {},
   "source": [
    "## Step 6: Generate Diagnostic Plots\n",
    "\n",
    "Create four diagnostic plots to visualize event data."
   ]
  },
  {
   "cell_type": "code",
   "execution_count": null,
   "metadata": {},
   "outputs": [],
   "source": [
    "analyser_simple.plot_four(name='MyRun_Simple', min_n=1, max_n=1000, min_psd=1e-10, max_psd=1)"
   ]
  },
  {
   "cell_type": "markdown",
   "metadata": {},
   "source": [
    "## Step 7: Plot a Specific Event\n",
    "\n",
    "Visualize a specific event to see its associated photons and event center."
   ]
  },
  {
   "cell_type": "code",
   "execution_count": null,
   "metadata": {},
   "outputs": [],
   "source": [
    "# Plot an event from the simple association\n",
    "event_id = combined_df_simple['assoc_event_id'].dropna().iloc[0]  # First non-NaN event ID\n",
    "analyser_simple.plot_event(event_id=event_id, title=f'Simple Association Event {event_id}')\n",
    "\n",
    "# Plot an event from the lumacam association\n",
    "event_id_lumacam = combined_df_lumacam['assoc_cluster_id'].dropna().iloc[0]  # First non-NaN cluster ID\n",
    "analyser_lumacam.plot_event(event_id=event_id_lumacam, event_col='assoc_cluster_id', title=f'Lumacam Association Event {event_id_lumacam}')"
   ]
  },
  {
   "cell_type": "markdown",
   "metadata": {},
   "source": [
    "## Notes\n",
    "\n",
    "- Ensure the `export_dir` contains the required binaries.\n",
    "- The `lumacamTesting` method requires the optional dependency and uses `assoc_cluster_id` instead of `assoc_event_id`.\n",
    "- Adjust `n_threads` based on your system's capabilities.\n",
    "- The `plot_four` method generates hexbin plots and a histogram for event analysis.\n",
    "- The `plot_event` method visualizes individual events with their photons and event center.\n",
    "- For large datasets, processing may take time; monitor progress via the `tqdm` bars.\n",
    "\n",
    "For more details, refer to the [README](README.md) file in the package directory."
   ]
  }
 ],
 "metadata": {
  "kernelspec": {
   "display_name": "Python 3",
   "language": "python",
   "name": "python3"
  },
  "language_info": {
   "codemirror_mode": {
    "name": "ipython",
    "version": 3
   },
   "file_extension": ".py",
   "mimetype": "text/x-python",
   "name": "python",
   "nbconvert_exporter": "python",
   "pygments_lexer": "ipython3",
   "version": "3.8.0"
  }
 },
 "nbformat": 4,
 "nbformat_minor": 4
}