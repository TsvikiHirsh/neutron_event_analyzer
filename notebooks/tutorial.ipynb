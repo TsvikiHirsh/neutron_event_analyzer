{
 "cells": [
  {
   "cell_type": "markdown",
   "metadata": {},
   "source": [
    "# Neutron Event Analyzer Tutorial\n",
    "\n",
    "This tutorial demonstrates how to use the `neutron_event_analyzer` package to process and analyze neutron event camera data. The package processes `.empirphot` and `.empirevent` files, associates photons with events, computes ellipticity, and generates diagnostic plots.\n",
    "\n",
    "## Setup\n",
    "\n",
    "Ensure you have installed the package:\n",
    "\n",
    "```bash\n",
    "pip install neutron_event_analyzer\n",
    "```\n",
    "\n",
    "You need a data folder with the following structure:\n",
    "\n",
    "```\n",
    "data_folder/\n",
    "├── photonFiles/\n",
    "│   └── *.empirphot\n",
    "└── eventFiles/\n",
    "    └── *.empirevent\n",
    "```\n",
    "\n",
    "Additionally, provide the path to the `export` directory containing the `empir_export_events` and `empir_export_photons` binaries.\n",
    "\n",
    "## Prerequisites\n",
    "\n",
    "Let's import the necessary module and set up the environment."
   ]
  },
  {
   "cell_type": "code",
   "execution_count": null,
   "metadata": {},
   "outputs": [],
   "source": [
    "from neutron_event_analyzer import Analyse\n",
    "import numpy as np\n",
    "\n",
    "# Define paths (replace with your actual paths)\n",
    "data_folder = '/path/to/your/data_folder'\n",
    "export_dir = '/path/to/your/export'"
   ]
  },
  {
   "cell_type": "markdown",
   "metadata": {},
   "source": [
    "## Step 1: Initialize the Analyser\n",
    "\n",
    "Create an `Analyse` object, specifying the data folder and export directory."
   ]
  },
  {
   "cell_type": "code",
   "execution_count": null,
   "metadata": {},
   "outputs": [],
   "source": [
    "analyser = Analyse(data_folder=data_folder, export_dir=export_dir, n_threads=4)\n",
    "print(\"Analyser initialized.\")"
   ]
  },
  {
   "cell_type": "markdown",
   "metadata": {},
   "source": [
    "## Step 2: Load Event and Photon Data\n",
    "\n",
    "Load the event and photon files into DataFrames. You can specify custom glob patterns if needed."
   ]
  },
  {
   "cell_type": "code",
   "execution_count": null,
   "metadata": {},
   "outputs": [],
   "source": [
    "# Load events\n",
    "analyser.load_events()\n",
    "\n",
    "# Load photons\n",
    "analyser.load_photons()"
   ]
  },
  {
   "cell_type": "markdown",
   "metadata": {},
   "source": [
    "## Step 3: Associate Photons to Events\n",
    "\n",
    "Associate photons to events based on spatial and temporal proximity."
   ]
  },
  {
   "cell_type": "code",
   "execution_count": null,
   "metadata": {},
   "outputs": [],
   "source": [
    "analyser.associate(time_norm_ns=1.0, spatial_norm_px=1.0, dSpace_px=np.inf, verbosity=1)"
   ]
  },
  {
   "cell_type": "markdown",
   "metadata": {},
   "source": [
    "## Step 4: Compute Ellipticity\n",
    "\n",
    "Compute ellipticity and related metrics for multi-photon events."
   ]
  },
  {
   "cell_type": "code",
   "execution_count": null,
   "metadata": {},
   "outputs": [],
   "source": [
    "analyser.compute_ellipticity(verbosity=1)"
   ]
  },
  {
   "cell_type": "markdown",
   "metadata": {},
   "source": [
    "## Step 5: Retrieve Combined DataFrame\n",
    "\n",
    "Get the DataFrame containing associated photon and event data, including ellipticity metrics."
   ]
  },
  {
   "cell_type": "code",
   "execution_count": null,
   "metadata": {},
   "outputs": [],
   "source": [
    "combined_df = analyser.get_combined_dataframe()\n",
    "combined_df.head()"
   ]
  },
  {
   "cell_type": "markdown",
   "metadata": {},
   "source": [
    "## Step 6: Generate Diagnostic Plots\n",
    "\n",
    "Create four diagnostic plots to visualize event data."
   ]
  },
  {
   "cell_type": "code",
   "execution_count": null,
   "metadata": {},
   "outputs": [],
   "source": [
    "analyser.plot_four(name='MyRun', min_n=1, max_n=1000, min_psd=1e-10, max_psd=1)"
   ]
  },
  {
   "cell_type": "markdown",
   "metadata": {},
   "source": [
    "## Notes\n",
    "\n",
    "- Ensure the `export_dir` contains the required binaries.\n",
    "- Adjust `n_threads` based on your system's capabilities.\n",
    "- The `plot_four` method generates hexbin plots and a histogram for event analysis.\n",
    "- For large datasets, processing may take time; monitor progress via the `tqdm` bars.\n",
    "\n",
    "For more details, refer to the [README](README.md) file in the package directory."
   ]
  }
 ],
 "metadata": {
  "kernelspec": {
   "display_name": "Python 3",
   "language": "python",
   "name": "python3"
  },
  "language_info": {
   "codemirror_mode": {
    "name": "ipython",
    "version": 3
   },
   "file_extension": ".py",
   "mimetype": "text/x-python",
   "name": "python",
   "nbconvert_exporter": "python",
   "pygments_lexer": "ipython3",
   "version": "3.8.0"
  }
 },
 "nbformat": 4,
 "nbformat_minor": 4
}